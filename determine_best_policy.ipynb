{
 "cells": [
  {
   "cell_type": "code",
   "execution_count": 1,
   "metadata": {},
   "outputs": [
    {
     "name": "stderr",
     "output_type": "stream",
     "text": [
      "/home/ethanid/anaconda3/lib/python3.6/site-packages/sklearn/cross_validation.py:41: DeprecationWarning: This module was deprecated in version 0.18 in favor of the model_selection module into which all the refactored classes and functions are moved. Also note that the interface of the new CV iterators are different from that of this module. This module will be removed in 0.20.\n",
      "  \"This module will be removed in 0.20.\", DeprecationWarning)\n"
     ]
    }
   ],
   "source": [
    "import csv\n",
    "import numpy as np\n",
    "import xgboost as xgb\n",
    "import sklearn\n",
    "import random\n",
    "import sklearn.linear_model"
   ]
  },
  {
   "cell_type": "code",
   "execution_count": 2,
   "metadata": {},
   "outputs": [
    {
     "name": "stdout",
     "output_type": "stream",
     "text": [
      "{'State': 'Abbreviation', 'Alabama': 'AL', 'Alaska': 'AK', 'Arizona': 'AZ', 'Arkansas': 'AR', 'California': 'CA', 'Colorado': 'CO', 'Connecticut': 'CT', 'Delaware': 'DE', 'District of Columbia': 'DC', 'Florida': 'FL', 'Georgia': 'GA', 'Hawaii': 'HI', 'Idaho': 'ID', 'Illinois': 'IL', 'Indiana': 'IN', 'Iowa': 'IA', 'Kansas': 'KS', 'Kentucky': 'KY', 'Louisiana': 'LA', 'Maine': 'ME', 'Montana': 'MT', 'Nebraska': 'NE', 'Nevada': 'NV', 'New Hampshire': 'NH', 'New Jersey': 'NJ', 'New Mexico': 'NM', 'New York': 'NY', 'North Carolina': 'NC', 'North Dakota': 'ND', 'Ohio': 'OH', 'Oklahoma': 'OK', 'Oregon': 'OR', 'Maryland': 'MD', 'Massachusetts': 'MA', 'Michigan': 'MI', 'Minnesota': 'MN', 'Mississippi': 'MS', 'Missouri': 'MO', 'Pennsylvania': 'PA', 'Rhode Island': 'RI', 'South Carolina': 'SC', 'South Dakota': 'SD', 'Tennessee': 'TN', 'Texas': 'TX', 'Utah': 'UT', 'Vermont': 'VT', 'Virginia': 'VA', 'Washington': 'WA', 'West Virginia': 'WV', 'Wisconsin': 'WI', 'Wyoming': 'WY'}\n"
     ]
    }
   ],
   "source": [
    "mapper = {}\n",
    "\n",
    "with open(\"./states.csv\", 'r') as blah:\n",
    "    for line in csv.reader(blah):\n",
    "        mapper[line[0]] = line[1]\n",
    "        \n",
    "print(mapper)"
   ]
  },
  {
   "cell_type": "code",
   "execution_count": 3,
   "metadata": {
    "scrolled": true
   },
   "outputs": [
    {
     "name": "stdout",
     "output_type": "stream",
     "text": [
      "defaultdict(<class 'set'>, {'Governance': {'CT', 'FL', 'DE', 'RI', 'WV', 'GA', 'LA', 'IL', 'KY', 'MT', 'OH', 'TN', 'AL', 'NH', 'UT'}, 'Monitoring': {'FL', 'LA', 'TX', 'TN', 'VT', 'UT', 'CT', 'RI', 'ID', 'DE', 'MD', 'NY', 'VA', 'WA', 'NJ', 'OH', 'IN', 'NC', 'ME', 'CO', 'CA'}, 'Naloxone': {'FL', 'GA', 'OK', 'LA', 'TX', 'TN', 'UT', 'CT', 'OR', 'DE', 'MD', 'NY', 'WA', 'KY', 'NJ', 'OH', 'ME', 'CO', 'WI', 'CA', 'MN'}, 'Investigation': {'FL', 'VA', 'WV', 'CO', 'MA', 'CA', 'NH', 'UT'}, 'Quantity control': {'ME', 'OK', 'IL', 'CO', 'MT', 'OH', 'MA', 'UT'}, 'Education': {'OR', 'ME', 'IL', 'TX', 'NM', 'MA', 'OH', 'ID', 'UT'}})\n"
     ]
    }
   ],
   "source": [
    "from collections import defaultdict\n",
    "\n",
    "state_policies = defaultdict(set)\n",
    "\n",
    "with open(\"./PolicyBreakdownByState.csv\", 'r') as blah:\n",
    "    policy_lines = list(csv.reader(blah))\n",
    "    \n",
    "    legend = policy_lines[0]\n",
    "    \n",
    "    for line in policy_lines[1:]:\n",
    "        for item, typ in zip(line[1:], legend[1:]):\n",
    "            if item == '1':\n",
    "                state_policies[typ].add(mapper[line[0]])\n",
    "\n",
    "print(state_policies)"
   ]
  },
  {
   "cell_type": "code",
   "execution_count": 4,
   "metadata": {
    "collapsed": true
   },
   "outputs": [],
   "source": [
    "SURPRESSED_DEATH_INPUTATION = 0\n",
    "\n",
    "county_death_rate = {}\n",
    "\n",
    "with open('./deathData.txt', 'r') as foo:\n",
    "    lines = list(csv.reader(foo, delimiter='\\t'))\n",
    "    \n",
    "    header = lines[0]\n",
    "    \n",
    "    for line in lines[1:]:\n",
    "        if line[0] == '---':\n",
    "            break\n",
    "        _, name, number, year, year_number, deaths, population, _ = line\n",
    "        if year != '2016':\n",
    "            continue\n",
    "\n",
    "        if deaths == 'Missing':\n",
    "            pass\n",
    "        elif deaths == 'Suppressed':\n",
    "            county_death_rate[name] = SURPRESSED_DEATH_INPUTATION\n",
    "        else:\n",
    "            county_death_rate[name] = int(deaths) / int(population)\n",
    "\n"
   ]
  },
  {
   "cell_type": "code",
   "execution_count": 5,
   "metadata": {
    "collapsed": true
   },
   "outputs": [],
   "source": [
    "with open(\"./2014 CHR analytic data.csv\", 'r') as foo:\n",
    "    lines = list(csv.reader(foo))\n",
    "    \n",
    "first = lines[0]\n",
    "second = lines[1]\n",
    "\n",
    "fields = [(i, name, desc) for i, (name, desc) in enumerate(zip(first, second)) if name.startswith('measure_') and name.endswith('value')]\n",
    "\n",
    "county_lines = lines[2:]\n",
    "random.shuffle(county_lines)"
   ]
  },
  {
   "cell_type": "code",
   "execution_count": 44,
   "metadata": {
    "collapsed": true
   },
   "outputs": [],
   "source": [
    "data = []\n",
    "meta_labels = []\n",
    "death_labels = []\n",
    "final_labels = defaultdict(list)\n",
    "        \n",
    "for line in county_lines:\n",
    "    state, county = line[2], line[3]\n",
    "    full_county = '{}, {}'.format(county, state)\n",
    "    \n",
    "    if full_county not in county_death_rate:\n",
    "        continue\n",
    "    data_row = []\n",
    "    for i, _, _ in fields:\n",
    "        text_value = line[i]\n",
    "        if text_value == '':\n",
    "            data_row.append(np.nan)\n",
    "        else:\n",
    "            data_row.append(float(text_value.replace(',', '')))\n",
    "    data.append(data_row)\n",
    "    meta_labels.append((state, county))\n",
    "    death_labels.append(county_death_rate[full_county])\n",
    "    \n",
    "    for policy, set_good in state_policies.items():\n",
    "        if state in set_good:\n",
    "            final_labels[policy].append(1)\n",
    "        else:\n",
    "            final_labels[policy].append(0)\n",
    "        \n",
    "data = np.array(data)"
   ]
  },
  {
   "cell_type": "code",
   "execution_count": 57,
   "metadata": {},
   "outputs": [],
   "source": [
    "def compute_estimates(X, labels, death):\n",
    "    shuffle_X, shuffle_labels = sklearn.utils.shuffle(X, labels)\n",
    "    \n",
    "    param_grid = {\n",
    "        'C': [10**(a) for a in range(-5, 4)],\n",
    "    }\n",
    "\n",
    "    estimator = sklearn.linear_model.LogisticRegression()\n",
    "    \n",
    "    imputer = sklearn.preprocessing.Imputer()\n",
    "    shuffle_X = imputer.fit_transform(shuffle_X)\n",
    "\n",
    "    scaler = sklearn.preprocessing.StandardScaler()\n",
    "    shuffle_X = scaler.fit_transform(shuffle_X)\n",
    "\n",
    "    trained_model = sklearn.model_selection.GridSearchCV(\n",
    "            estimator=estimator,\n",
    "            param_grid=param_grid, \n",
    "            scoring='roc_auc', \n",
    "            verbose=1,\n",
    "            n_jobs=1,\n",
    "            refit=True,\n",
    "            cv=5,\n",
    "    )\n",
    "\n",
    "    trained_model.fit(shuffle_X, shuffle_labels)\n",
    "\n",
    "    print(trained_model.best_params_)\n",
    "    print(trained_model.best_score_)\n",
    "        \n",
    "    estimated_effect = 0\n",
    "\n",
    "    final_probs = trained_models[policy].predict_proba(X)\n",
    "    for prob_score, label, final_deaths in zip(final_probs[:, 1], labels, death):\n",
    "        if label == 1:\n",
    "            estimated_effect += final_deaths / prob_score \n",
    "        else:\n",
    "            estimated_effect -= final_deaths / (1 - prob_score)\n",
    "\n",
    "    estimated_effect /= len(death)\n",
    "    return estimated_effect * 100 * 1000"
   ]
  },
  {
   "cell_type": "code",
   "execution_count": null,
   "metadata": {},
   "outputs": [
    {
     "name": "stdout",
     "output_type": "stream",
     "text": [
      "Governance\n",
      "Fitting 5 folds for each of 9 candidates, totalling 45 fits\n"
     ]
    },
    {
     "name": "stderr",
     "output_type": "stream",
     "text": [
      "[Parallel(n_jobs=1)]: Done  45 out of  45 | elapsed:    4.3s finished\n"
     ]
    },
    {
     "name": "stdout",
     "output_type": "stream",
     "text": [
      "{'C': 1000}\n",
      "0.883304782026\n",
      "-1.43612239872\n",
      "Fitting 5 folds for each of 9 candidates, totalling 45 fits\n"
     ]
    },
    {
     "name": "stderr",
     "output_type": "stream",
     "text": [
      "[Parallel(n_jobs=1)]: Done  45 out of  45 | elapsed:    5.8s finished\n"
     ]
    },
    {
     "name": "stdout",
     "output_type": "stream",
     "text": [
      "{'C': 1000}\n",
      "0.894979853469\n",
      "Fitting 5 folds for each of 9 candidates, totalling 45 fits\n"
     ]
    },
    {
     "name": "stderr",
     "output_type": "stream",
     "text": [
      "[Parallel(n_jobs=1)]: Done  45 out of  45 | elapsed:    3.6s finished\n"
     ]
    },
    {
     "name": "stdout",
     "output_type": "stream",
     "text": [
      "{'C': 100}\n",
      "0.888853224109\n",
      "Fitting 5 folds for each of 9 candidates, totalling 45 fits\n"
     ]
    },
    {
     "name": "stderr",
     "output_type": "stream",
     "text": [
      "[Parallel(n_jobs=1)]: Done  45 out of  45 | elapsed:    3.2s finished\n"
     ]
    },
    {
     "name": "stdout",
     "output_type": "stream",
     "text": [
      "{'C': 1000}\n",
      "0.882821377152\n",
      "Fitting 5 folds for each of 9 candidates, totalling 45 fits\n"
     ]
    },
    {
     "name": "stderr",
     "output_type": "stream",
     "text": [
      "[Parallel(n_jobs=1)]: Done  45 out of  45 | elapsed:    4.3s finished\n"
     ]
    },
    {
     "name": "stdout",
     "output_type": "stream",
     "text": [
      "{'C': 1000}\n",
      "0.892311089313\n",
      "Fitting 5 folds for each of 9 candidates, totalling 45 fits\n"
     ]
    },
    {
     "name": "stderr",
     "output_type": "stream",
     "text": [
      "[Parallel(n_jobs=1)]: Done  45 out of  45 | elapsed:    5.6s finished\n"
     ]
    },
    {
     "name": "stdout",
     "output_type": "stream",
     "text": [
      "{'C': 100}\n",
      "0.892239738372\n",
      "Fitting 5 folds for each of 9 candidates, totalling 45 fits\n"
     ]
    },
    {
     "name": "stderr",
     "output_type": "stream",
     "text": [
      "[Parallel(n_jobs=1)]: Done  45 out of  45 | elapsed:    4.6s finished\n"
     ]
    },
    {
     "name": "stdout",
     "output_type": "stream",
     "text": [
      "{'C': 1000}\n",
      "0.896643474694\n",
      "Fitting 5 folds for each of 9 candidates, totalling 45 fits\n"
     ]
    }
   ],
   "source": [
    "point_estimates = {}\n",
    "bootstrap_estimates = {}\n",
    "\n",
    "for policy, labels in final_labels.items():\n",
    "    print(policy)\n",
    "    point_estimate = compute_estimates(data, labels, death_labels)\n",
    "    \n",
    "    print(point_estimate)\n",
    "    point_estimates[policy] = point_estimate\n",
    "    \n",
    "    bootstraps = []\n",
    "    for i in range(20):\n",
    "        sub_X, sub_labels, sub_death = sklearn.utils.resample(data, labels, death_labels)\n",
    "        bootstraps.append(compute_estimates(sub_X, sub_labels, sub_death))\n",
    "    bootstrap_estimates[policy] = bootstraps\n",
    "    print(bootstraps)\n",
    "        "
   ]
  }
 ],
 "metadata": {
  "kernelspec": {
   "display_name": "Python 3",
   "language": "python",
   "name": "python3"
  },
  "language_info": {
   "codemirror_mode": {
    "name": "ipython",
    "version": 3
   },
   "file_extension": ".py",
   "mimetype": "text/x-python",
   "name": "python",
   "nbconvert_exporter": "python",
   "pygments_lexer": "ipython3",
   "version": "3.6.3"
  }
 },
 "nbformat": 4,
 "nbformat_minor": 2
}
